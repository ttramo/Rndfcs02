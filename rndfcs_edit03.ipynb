{
 "cells": [
  {
   "cell_type": "code",
   "execution_count": null,
   "id": "82f98988-8bac-4153-84ea-4cdd12f9652b",
   "metadata": {},
   "outputs": [],
   "source": [
    "!pip install pygit2==1.12.1\n",
    "%cd /content\n",
    "!git clone https://github.com/runew0lf/RuinedFooocus.git\n",
    "%cd /content/RuinedFooocus\n",
    "!python entry_with_update.py --share --always-high-vram"
   ]
  }
 ],
 "metadata": {
  "kernelspec": {
   "display_name": "Python 3 (ipykernel)",
   "language": "python",
   "name": "python3"
  },
  "language_info": {
   "codemirror_mode": {
    "name": "ipython",
    "version": 3
   },
   "file_extension": ".py",
   "mimetype": "text/x-python",
   "name": "python",
   "nbconvert_exporter": "python",
   "pygments_lexer": "ipython3",
   "version": "3.13.0"
  }
 },
 "nbformat": 4,
 "nbformat_minor": 5
}
